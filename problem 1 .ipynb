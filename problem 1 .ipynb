{
 "cells": [
  {
   "cell_type": "code",
   "execution_count": 1,
   "id": "1cd3c1d1",
   "metadata": {},
   "outputs": [],
   "source": [
    "import sqlite3\n",
    "from datetime import datetime, timedelta\n",
    "import random\n",
    "import uuid"
   ]
  },
  {
   "cell_type": "code",
   "execution_count": 2,
   "id": "66553830",
   "metadata": {},
   "outputs": [],
   "source": [
    "def generate_random_name():\n",
    "    first_names = ['Ravi', 'rahul', 'sandeep', 'pardeep', 'ishan', 'Shyra', 'khusboo', 'khushi', 'piyush', 'himsanshu']\n",
    "    last_names = ['singh', 'goswami', 'Kumar', 'kumar', 'singh', 'singh', 'khan', 'salaria', 'kumar', 'bundela']\n",
    "    return random.choice(first_names) + ' ' + random.choice(last_names)"
   ]
  },
  {
   "cell_type": "code",
   "execution_count": 3,
   "id": "742db1dc",
   "metadata": {},
   "outputs": [],
   "source": [
    "def generate_random_phone_number():\n",
    "    return f'+1({random.randint(100, 999)})-{random.randint(100, 999)}-{random.randint(1000, 9999)}'"
   ]
  },
  {
   "cell_type": "code",
   "execution_count": 4,
   "id": "29df6514",
   "metadata": {},
   "outputs": [],
   "source": [
    "def generate_random_prices():\n",
    "    return [round(random.uniform(10, 1000), 2) for _ in range(730)]  # 2 years of data, 365 * 2 = 730 days"
   ]
  },
  {
   "cell_type": "code",
   "execution_count": 10,
   "id": "a6f97c18",
   "metadata": {},
   "outputs": [],
   "source": [
    "def generate_random_orders_and_items(num_orders, num_products, num_variants):\n",
    "    orders = []\n",
    "    order_items = []\n",
    "    for i in range(num_orders):\n",
    "        customer_id = random.randint(1, 10)  # Assuming you have 10 customers in the Customer table\n",
    "        order_date = datetime(2021, 1, 1) + timedelta(days=random.randint(0, 730))  # Up to 2 years of order history\n",
    "        order_id = str(uuid.uuid4())  # Generate a random UUID for order_id\n",
    "\n",
    "        # Generate random order items for the order\n",
    "        for j in range(random.randint(1, 5)):  # Each order can have 1 to 5 items\n",
    "            product_id = random.randint(1, num_products)  # Assuming you have num_products products in the Product table\n",
    "            variant_id = random.randint(1, num_variants)  # Assuming you have num_variants variants in the Variant table\n",
    "            quantity = random.randint(1, 10)  # Random quantity between 1 and 10\n",
    "            price = random.uniform(10, 1000)  # Random price between 10 and 1000\n",
    "\n",
    "            order_items.append((order_id, product_id, variant_id, quantity, price))\n",
    "\n",
    "        orders.append((order_id, customer_id, order_date))\n",
    "\n",
    "    return orders, order_items"
   ]
  },
  {
   "cell_type": "code",
   "execution_count": 11,
   "id": "2e71f4bf",
   "metadata": {},
   "outputs": [],
   "source": [
    "conn = sqlite3.connect('ecommerce4.db')\n",
    "cursor = conn.cursor()"
   ]
  },
  {
   "cell_type": "code",
   "execution_count": 12,
   "id": "d0d61014",
   "metadata": {},
   "outputs": [
    {
     "data": {
      "text/plain": [
       "<sqlite3.Cursor at 0x1d1a73eadc0>"
      ]
     },
     "execution_count": 12,
     "metadata": {},
     "output_type": "execute_result"
    }
   ],
   "source": [
    "cursor.execute('''\n",
    "CREATE TABLE IF NOT EXISTS Customer (\n",
    "    customer_id INTEGER PRIMARY KEY,\n",
    "    name TEXT,\n",
    "    shipping_address TEXT,\n",
    "    contact_number TEXT\n",
    ")\n",
    "''')\n",
    "\n",
    "cursor.execute('''\n",
    "CREATE TABLE IF NOT EXISTS Product (\n",
    "    product_id INTEGER PRIMARY KEY,\n",
    "    name TEXT,\n",
    "    description TEXT\n",
    ")\n",
    "''')\n",
    "\n",
    "cursor.execute('''\n",
    "CREATE TABLE IF NOT EXISTS Variant (\n",
    "    variant_id INTEGER PRIMARY KEY,\n",
    "    attribute1 TEXT,\n",
    "    attribute2 TEXT,\n",
    "    product_id INTEGER,\n",
    "    FOREIGN KEY (product_id) REFERENCES Product(product_id)\n",
    ")\n",
    "''')\n",
    "cursor.execute('''\n",
    "CREATE TABLE IF NOT EXISTS PriceHistory (\n",
    "    price_id INTEGER PRIMARY KEY,\n",
    "    entity_id INTEGER,\n",
    "    entity_type TEXT,\n",
    "    price REAL,\n",
    "    effective_date DATE\n",
    ")\n",
    "''')\n",
    "\n",
    "cursor.execute('''\n",
    "CREATE TABLE IF NOT EXISTS Orders (\n",
    "    order_id TEXT PRIMARY KEY,\n",
    "    customer_id INTEGER,\n",
    "    order_date DATE,\n",
    "    FOREIGN KEY (customer_id) REFERENCES Customer(customer_id)\n",
    ")\n",
    "''')\n",
    "\n",
    "cursor.execute('''\n",
    "CREATE TABLE IF NOT EXISTS OrderItems (\n",
    "    order_item_id INTEGER PRIMARY KEY,\n",
    "    order_id TEXT,\n",
    "    product_id INTEGER,\n",
    "    variant_id INTEGER,\n",
    "    quantity INTEGER,\n",
    "    price REAL,\n",
    "    FOREIGN KEY (order_id) REFERENCES Orders(order_id),\n",
    "    FOREIGN KEY (product_id) REFERENCES Product(product_id),\n",
    "    FOREIGN KEY (variant_id) REFERENCES Variant(variant_id)\n",
    ")\n",
    "''')\n",
    "\n",
    "cursor.execute('''\n",
    "CREATE TABLE IF NOT EXISTS AddressHistory (\n",
    "    address_id INTEGER PRIMARY KEY,\n",
    "    customer_id INTEGER,\n",
    "    address TEXT,\n",
    "    effective_date DATE,\n",
    "    FOREIGN KEY (customer_id) REFERENCES Customer(customer_id)\n",
    ")\n",
    "''')"
   ]
  },
  {
   "cell_type": "code",
   "execution_count": 14,
   "id": "9f15eb35",
   "metadata": {},
   "outputs": [],
   "source": [
    "def generate_random_address():\n",
    "    streets = ['Main Street', 'Park Avenue', 'Elm Street', 'Broadway', 'Oak Lane', 'Cedar Avenue']\n",
    "    cities = ['Amritsar', 'Jalandhar', 'Jais', 'Raebarilei', 'chandighar', 'Phoenix']\n",
    "    states = ['PB', 'PB', 'UP', 'UP', 'UP', 'CS']\n",
    "    postal_codes = ['10001', '90001', '60601', '77001', '19101', '85001']\n",
    "\n",
    "    street = random.choice(streets)\n",
    "    city = random.choice(cities)\n",
    "    state = random.choice(states)\n",
    "    postal_code = random.choice(postal_codes)\n",
    "\n",
    "    return f\"{street}, {city}, {state} {postal_code}\""
   ]
  },
  {
   "cell_type": "code",
   "execution_count": 15,
   "id": "4f351f78",
   "metadata": {},
   "outputs": [],
   "source": [
    "for entity_type, entity_id in [(\"Product\", 1), (\"Product\", 2)]:\n",
    "    prices = generate_random_prices()\n",
    "    start_date = datetime(2021, 1, 1)\n",
    "    price_history = []\n",
    "    for price in prices:\n",
    "        effective_date = start_date.strftime('%Y-%m-%d')\n",
    "        price_history.append((entity_id, entity_type, price, effective_date))\n",
    "        start_date += timedelta(days=1)\n",
    "    cursor.executemany('INSERT INTO PriceHistory (entity_id, entity_type, price, effective_date) VALUES (?, ?, ?, ?)', price_history)"
   ]
  },
  {
   "cell_type": "code",
   "execution_count": 16,
   "id": "67e980fa",
   "metadata": {},
   "outputs": [
    {
     "data": {
      "text/plain": [
       "<sqlite3.Cursor at 0x1d1a73eadc0>"
      ]
     },
     "execution_count": 16,
     "metadata": {},
     "output_type": "execute_result"
    }
   ],
   "source": [
    "orders, order_items = generate_random_orders_and_items(100, 10, 10)\n",
    "for order in orders:\n",
    "    order_id = str(uuid.uuid4())  # Generate a random UUID for order_id\n",
    "    cursor.execute('INSERT INTO Orders (order_id, customer_id, order_date) VALUES (?, ?, ?)', (order_id, order[1], order[2]))\n",
    "\n",
    "cursor.executemany('INSERT INTO OrderItems (order_id, product_id, variant_id, quantity, price) VALUES (?, ?, ?, ?, ?)', order_items)"
   ]
  },
  {
   "cell_type": "code",
   "execution_count": 17,
   "id": "31dece62",
   "metadata": {},
   "outputs": [],
   "source": [
    "conn.commit()\n",
    "conn.close()"
   ]
  },
  {
   "cell_type": "code",
   "execution_count": null,
   "id": "6bebbb61",
   "metadata": {},
   "outputs": [],
   "source": []
  }
 ],
 "metadata": {
  "kernelspec": {
   "display_name": "Python 3 (ipykernel)",
   "language": "python",
   "name": "python3"
  },
  "language_info": {
   "codemirror_mode": {
    "name": "ipython",
    "version": 3
   },
   "file_extension": ".py",
   "mimetype": "text/x-python",
   "name": "python",
   "nbconvert_exporter": "python",
   "pygments_lexer": "ipython3",
   "version": "3.9.12"
  }
 },
 "nbformat": 4,
 "nbformat_minor": 5
}
