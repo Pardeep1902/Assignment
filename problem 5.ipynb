{
 "cells": [
  {
   "cell_type": "code",
   "execution_count": 3,
   "id": "46101e5e",
   "metadata": {},
   "outputs": [],
   "source": [
    "import pandas as pd\n",
    "\n",
    "# Load the data from the Excel file (Time Series.xlsx)\n",
    "file_path = \"Time Series.xlsx\"\n",
    "df = pd.read_excel(file_path, engine='openpyxl')\n",
    "\n"
   ]
  },
  {
   "cell_type": "code",
   "execution_count": 4,
   "id": "12daa153",
   "metadata": {},
   "outputs": [
    {
     "data": {
      "text/html": [
       "<div>\n",
       "<style scoped>\n",
       "    .dataframe tbody tr th:only-of-type {\n",
       "        vertical-align: middle;\n",
       "    }\n",
       "\n",
       "    .dataframe tbody tr th {\n",
       "        vertical-align: top;\n",
       "    }\n",
       "\n",
       "    .dataframe thead th {\n",
       "        text-align: right;\n",
       "    }\n",
       "</style>\n",
       "<table border=\"1\" class=\"dataframe\">\n",
       "  <thead>\n",
       "    <tr style=\"text-align: right;\">\n",
       "      <th></th>\n",
       "      <th>Name</th>\n",
       "      <th>Start</th>\n",
       "      <th>End</th>\n",
       "      <th>Activity</th>\n",
       "    </tr>\n",
       "  </thead>\n",
       "  <tbody>\n",
       "    <tr>\n",
       "      <th>0</th>\n",
       "      <td>Priyanka</td>\n",
       "      <td>2023-10-10 22:43:52.620</td>\n",
       "      <td>2023-07-20 03:31:52.620</td>\n",
       "      <td>Inspection</td>\n",
       "    </tr>\n",
       "    <tr>\n",
       "      <th>1</th>\n",
       "      <td>Jyoti</td>\n",
       "      <td>2023-08-24 05:55:52.620</td>\n",
       "      <td>2023-05-17 20:19:52.620</td>\n",
       "      <td>Remote Inspection</td>\n",
       "    </tr>\n",
       "    <tr>\n",
       "      <th>2</th>\n",
       "      <td>Jyoti</td>\n",
       "      <td>2023-06-08 08:19:52.620</td>\n",
       "      <td>2023-04-08 05:55:52.620</td>\n",
       "      <td>Updates</td>\n",
       "    </tr>\n",
       "    <tr>\n",
       "      <th>3</th>\n",
       "      <td>Priyanka</td>\n",
       "      <td>2023-09-21 15:31:52.620</td>\n",
       "      <td>2023-05-27 10:43:52.620</td>\n",
       "      <td>Reporting</td>\n",
       "    </tr>\n",
       "    <tr>\n",
       "      <th>4</th>\n",
       "      <td>Priyanka</td>\n",
       "      <td>2023-10-07 03:31:52.620</td>\n",
       "      <td>2023-04-30 13:07:52.620</td>\n",
       "      <td>Reply to Customers</td>\n",
       "    </tr>\n",
       "    <tr>\n",
       "      <th>...</th>\n",
       "      <td>...</td>\n",
       "      <td>...</td>\n",
       "      <td>...</td>\n",
       "      <td>...</td>\n",
       "    </tr>\n",
       "    <tr>\n",
       "      <th>10880</th>\n",
       "      <td>Sharan</td>\n",
       "      <td>2023-04-27 20:19:52.620</td>\n",
       "      <td>2023-07-21 22:43:52.620</td>\n",
       "      <td>Reply to Customers</td>\n",
       "    </tr>\n",
       "    <tr>\n",
       "      <th>10881</th>\n",
       "      <td>Priyanka</td>\n",
       "      <td>2023-08-23 13:07:52.620</td>\n",
       "      <td>2023-08-11 10:43:52.620</td>\n",
       "      <td>Business Development</td>\n",
       "    </tr>\n",
       "    <tr>\n",
       "      <th>10882</th>\n",
       "      <td>Priyanka</td>\n",
       "      <td>2023-04-15 15:31:52.620</td>\n",
       "      <td>2023-06-29 15:31:52.620</td>\n",
       "      <td>Reporting</td>\n",
       "    </tr>\n",
       "    <tr>\n",
       "      <th>10883</th>\n",
       "      <td>Jyoti</td>\n",
       "      <td>2023-04-24 03:31:52.620</td>\n",
       "      <td>2023-06-16 20:19:52.620</td>\n",
       "      <td>Send Email</td>\n",
       "    </tr>\n",
       "    <tr>\n",
       "      <th>10884</th>\n",
       "      <td>Priyanka</td>\n",
       "      <td>2023-06-29 01:07:52.620</td>\n",
       "      <td>2023-08-13 08:19:52.620</td>\n",
       "      <td>Reply to Customers</td>\n",
       "    </tr>\n",
       "  </tbody>\n",
       "</table>\n",
       "<p>10885 rows × 4 columns</p>\n",
       "</div>"
      ],
      "text/plain": [
       "           Name                   Start                     End  \\\n",
       "0      Priyanka 2023-10-10 22:43:52.620 2023-07-20 03:31:52.620   \n",
       "1         Jyoti 2023-08-24 05:55:52.620 2023-05-17 20:19:52.620   \n",
       "2         Jyoti 2023-06-08 08:19:52.620 2023-04-08 05:55:52.620   \n",
       "3      Priyanka 2023-09-21 15:31:52.620 2023-05-27 10:43:52.620   \n",
       "4      Priyanka 2023-10-07 03:31:52.620 2023-04-30 13:07:52.620   \n",
       "...         ...                     ...                     ...   \n",
       "10880    Sharan 2023-04-27 20:19:52.620 2023-07-21 22:43:52.620   \n",
       "10881  Priyanka 2023-08-23 13:07:52.620 2023-08-11 10:43:52.620   \n",
       "10882  Priyanka 2023-04-15 15:31:52.620 2023-06-29 15:31:52.620   \n",
       "10883     Jyoti 2023-04-24 03:31:52.620 2023-06-16 20:19:52.620   \n",
       "10884  Priyanka 2023-06-29 01:07:52.620 2023-08-13 08:19:52.620   \n",
       "\n",
       "                   Activity  \n",
       "0                Inspection  \n",
       "1         Remote Inspection  \n",
       "2                   Updates  \n",
       "3                 Reporting  \n",
       "4        Reply to Customers  \n",
       "...                     ...  \n",
       "10880    Reply to Customers  \n",
       "10881  Business Development  \n",
       "10882             Reporting  \n",
       "10883            Send Email  \n",
       "10884    Reply to Customers  \n",
       "\n",
       "[10885 rows x 4 columns]"
      ]
     },
     "execution_count": 4,
     "metadata": {},
     "output_type": "execute_result"
    }
   ],
   "source": [
    "df"
   ]
  },
  {
   "cell_type": "code",
   "execution_count": 7,
   "id": "6a6d97cb",
   "metadata": {},
   "outputs": [],
   "source": [
    "df = pd.DataFrame(df)"
   ]
  },
  {
   "cell_type": "code",
   "execution_count": 9,
   "id": "c479a12e",
   "metadata": {},
   "outputs": [],
   "source": [
    "# Convert 'Start' and 'End' columns to datetime data type\n",
    "df['Start'] = pd.to_datetime(df['Start'])\n",
    "df['End'] = pd.to_datetime(df['End'])"
   ]
  },
  {
   "cell_type": "code",
   "execution_count": 19,
   "id": "3d52f10d",
   "metadata": {},
   "outputs": [],
   "source": [
    "# Convert 'Start' and 'End' columns to datetime data type\n",
    "df['Start'] = pd.to_datetime(df['Start'])\n",
    "df['End'] = pd.to_datetime(df['End'])"
   ]
  },
  {
   "cell_type": "code",
   "execution_count": 21,
   "id": "6b2685f0",
   "metadata": {},
   "outputs": [],
   "source": [
    "# Filter data for specific bot names (Priyanka and Jyoti)\n",
    "selected_bots = ['Priyanka', 'Jyoti']\n",
    "df = df[df['Name'].isin(selected_bots)]\n",
    "\n",
    "# Sort the data by 'Name' and 'Start' columns\n",
    "df.sort_values(by=['Name', 'Start'], inplace=True)\n"
   ]
  },
  {
   "cell_type": "code",
   "execution_count": 22,
   "id": "25eaf008",
   "metadata": {},
   "outputs": [],
   "source": [
    "# Initialize variables to track the continuous periods and activities\n",
    "current_bot = None\n",
    "start_time = None\n",
    "end_time = None\n",
    "aggregated_activities = []\n"
   ]
  },
  {
   "cell_type": "code",
   "execution_count": 23,
   "id": "126fc4dd",
   "metadata": {},
   "outputs": [],
   "source": [
    "# List to store the continuous periods\n",
    "periods = []"
   ]
  },
  {
   "cell_type": "code",
   "execution_count": 24,
   "id": "0d75f05d",
   "metadata": {},
   "outputs": [],
   "source": [
    "\n",
    "# Helper function to append the current period and activities to the output list\n",
    "def append_period():\n",
    "    if current_bot is not None and start_time is not None:\n",
    "        period = {'Name': current_bot, 'Start': start_time, 'End': end_time, 'Activities': aggregated_activities}\n",
    "        periods.append(period)\n"
   ]
  },
  {
   "cell_type": "code",
   "execution_count": 25,
   "id": "e623edcd",
   "metadata": {},
   "outputs": [],
   "source": [
    "# Iterate through the rows of the DataFrame\n",
    "for _, row in df.iterrows():\n",
    "    bot_name = row['Name']\n",
    "    start_time_row = row['Start']\n",
    "    end_time_row = row['End']\n",
    "    activity = row['Activity']"
   ]
  },
  {
   "cell_type": "code",
   "execution_count": 29,
   "id": "717e4736",
   "metadata": {},
   "outputs": [],
   "source": [
    "    if bot_name != current_bot or (start_time_row - end_time).days > 30:\n",
    "        append_period()\n",
    "        current_bot = bot_name\n",
    "        start_time = start_time_row\n",
    "        aggregated_activities = [activity]\n",
    "    else:\n",
    "        # If it's the same bot and the time gap is within 30 days, update the end time and aggregate the activity\n",
    "        end_time = end_time_row\n",
    "        aggregated_activities.append(activity)"
   ]
  },
  {
   "cell_type": "code",
   "execution_count": 30,
   "id": "9406b00c",
   "metadata": {},
   "outputs": [],
   "source": [
    "# Append the last period\n",
    "append_period()"
   ]
  },
  {
   "cell_type": "code",
   "execution_count": 31,
   "id": "175e296a",
   "metadata": {},
   "outputs": [],
   "source": [
    "# Create a DataFrame from the output list of periods\n",
    "result_df = pd.DataFrame(periods)"
   ]
  },
  {
   "cell_type": "code",
   "execution_count": 32,
   "id": "18de14e1",
   "metadata": {},
   "outputs": [
    {
     "name": "stdout",
     "output_type": "stream",
     "text": [
      "       Name                   Start   End Activities\n",
      "0  Priyanka 2023-10-15 15:31:52.620  None     [Call]\n"
     ]
    }
   ],
   "source": [
    "# Display the result\n",
    "print(result_df)"
   ]
  },
  {
   "cell_type": "code",
   "execution_count": null,
   "id": "a25632cb",
   "metadata": {},
   "outputs": [],
   "source": []
  }
 ],
 "metadata": {
  "kernelspec": {
   "display_name": "Python 3 (ipykernel)",
   "language": "python",
   "name": "python3"
  },
  "language_info": {
   "codemirror_mode": {
    "name": "ipython",
    "version": 3
   },
   "file_extension": ".py",
   "mimetype": "text/x-python",
   "name": "python",
   "nbconvert_exporter": "python",
   "pygments_lexer": "ipython3",
   "version": "3.9.12"
  }
 },
 "nbformat": 4,
 "nbformat_minor": 5
}
